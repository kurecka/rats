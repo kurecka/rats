{
 "cells": [
  {
   "cell_type": "code",
   "execution_count": 95,
   "metadata": {},
   "outputs": [],
   "source": [
    "import rats\n",
    "\n",
    "rats.set_log_level('INFO')"
   ]
  },
  {
   "cell_type": "markdown",
   "metadata": {},
   "source": [
    "### Run episode: Low level functions"
   ]
  },
  {
   "cell_type": "code",
   "execution_count": 96,
   "metadata": {},
   "outputs": [],
   "source": [
    "def run_episode(e, a):\n",
    "    e.reset()\n",
    "    a.reset()\n",
    "    \n",
    "    h = a.get_handler()\n",
    "    \n",
    "    while not e.is_over():\n",
    "        a.play()\n",
    "        # print(h.get_current_state(), h.get_penalty(), h.get_reward())\n",
    "\n",
    "    return h.get_reward(), h.get_penalty()"
   ]
  },
  {
   "cell_type": "code",
   "execution_count": 97,
   "metadata": {},
   "outputs": [
    {
     "name": "stdout",
     "output_type": "stream",
     "text": [
      "Playing episode with Constant Agent (1)\n",
      "reward: 0.0\n",
      "penalty: 0.0\n"
     ]
    }
   ],
   "source": [
    "e = rats.InvestorEnv(5, 20)\n",
    "c1 = rats.ConstantAgent(rats.EnvironmentHandler(e), 1)\n",
    "r, p = run_episode(e, c1)\n",
    "print(f\"Playing episode with {c1.name()}\")\n",
    "print(\"reward:\", r)\n",
    "print(\"penalty:\", p)"
   ]
  },
  {
   "cell_type": "code",
   "execution_count": 98,
   "metadata": {},
   "outputs": [
    {
     "name": "stdout",
     "output_type": "stream",
     "text": [
      "Playing episode with Constant Agent (0)\n",
      "reward: 0.0\n",
      "penalty: 0.0\n"
     ]
    }
   ],
   "source": [
    "c1 = rats.ConstantAgent(rats.EnvironmentHandler(e), action=0)\n",
    "\n",
    "r, p = run_episode(e, c1)\n",
    "print(f\"Playing episode with {c1.name()}\")\n",
    "print(\"reward:\", r)\n",
    "print(\"penalty:\", p)"
   ]
  },
  {
   "cell_type": "code",
   "execution_count": 99,
   "metadata": {},
   "outputs": [
    {
     "name": "stdout",
     "output_type": "stream",
     "text": [
      "Playing episode with dual_uct\n",
      "reward: 0.0\n",
      "penalty: 0.0\n"
     ]
    }
   ],
   "source": [
    "dual_uct = rats.DualUCT(rats.EnvironmentHandler(e), max_depth=10, num_sim=100, risk_thd=0.5, gamma=0.9)\n",
    "\n",
    "r, p = run_episode(e, dual_uct)\n",
    "print(f\"Playing episode with {dual_uct.name()}\")\n",
    "print(\"reward:\", r)\n",
    "print(\"penalty:\", p)\n"
   ]
  },
  {
   "cell_type": "markdown",
   "metadata": {},
   "source": [
    "### Run Episode: C++ Orchestrator"
   ]
  },
  {
   "cell_type": "code",
   "execution_count": 100,
   "metadata": {},
   "outputs": [
    {
     "name": "stdout",
     "output_type": "stream",
     "text": [
      "[2023-08-28 14:49:48.241] [info] Load agent: Constant Agent (0)\n",
      "[2023-08-28 14:49:48.241] [info] Load environment: InvestorEnv\n",
      "[2023-08-28 14:49:48.241] [info] Setting agent handler\n",
      "[2023-08-28 14:49:48.241] [info] Started\n",
      "[2023-08-28 14:49:48.241] [info]   Agent: Constant Agent (0)\n",
      "[2023-08-28 14:49:48.241] [info]   Environment: InvestorEnv\n",
      "[2023-08-28 14:49:48.241] [info] Evaluation phase\n",
      "[2023-08-28 14:49:48.242] [info] Evaluation results:\n",
      "[2023-08-28 14:49:48.242] [info]   Mean reward: -5.202899\n",
      "[2023-08-28 14:49:48.242] [info]   Mean penalty: 0.861992\n"
     ]
    }
   ],
   "source": [
    "rats.set_log_level('INFO')\n",
    "\n",
    "o = rats.Orchestrator()\n",
    "e = rats.InvestorEnv(2, 20)\n",
    "c1 = rats.ConstantAgent(rats.EnvironmentHandler(e), action=0)\n",
    "\n",
    "o.load_agent(c1)\n",
    "o.load_environment(e)\n",
    "\n",
    "o.run(1000)"
   ]
  },
  {
   "cell_type": "code",
   "execution_count": 101,
   "metadata": {},
   "outputs": [
    {
     "name": "stdout",
     "output_type": "stream",
     "text": [
      "[2023-08-28 14:49:48.248] [info] Load agent: dual_uct\n",
      "[2023-08-28 14:49:48.248] [info] Load environment: InvestorEnv\n",
      "[2023-08-28 14:49:48.248] [info] Setting agent handler\n",
      "[2023-08-28 14:49:48.248] [info] Started\n",
      "[2023-08-28 14:49:48.248] [info]   Agent: dual_uct\n",
      "[2023-08-28 14:49:48.248] [info]   Environment: InvestorEnv\n",
      "[2023-08-28 14:49:48.248] [info] Evaluation phase\n",
      "[2023-08-28 14:49:48.726] [info] Evaluation results:\n",
      "[2023-08-28 14:49:48.726] [info]   Mean reward: -10.160714\n",
      "[2023-08-28 14:49:48.726] [info]   Mean penalty: 0.831993\n"
     ]
    }
   ],
   "source": [
    "rats.set_log_level('INFO')\n",
    "\n",
    "o = rats.Orchestrator()\n",
    "e = rats.InvestorEnv(2, 20)\n",
    "uct = rats.DualUCT(rats.EnvironmentHandler(e), max_depth=10, num_sim=100, risk_thd=0.6, gamma=0.9)\n",
    "\n",
    "o.load_agent(uct)\n",
    "o.load_environment(e)\n",
    "\n",
    "o.run(1000)"
   ]
  },
  {
   "cell_type": "code",
   "execution_count": 102,
   "metadata": {},
   "outputs": [
    {
     "name": "stdout",
     "output_type": "stream",
     "text": [
      "[2023-08-28 14:49:48.731] [info] Load agent: dual_uct\n",
      "[2023-08-28 14:49:48.731] [info] Load environment: InvestorEnv\n",
      "[2023-08-28 14:49:48.731] [info] Setting agent handler\n",
      "[2023-08-28 14:49:48.731] [info] Started\n",
      "[2023-08-28 14:49:48.731] [info]   Agent: dual_uct\n",
      "[2023-08-28 14:49:48.731] [info]   Environment: InvestorEnv\n",
      "[2023-08-28 14:49:48.731] [info] Evaluation phase\n",
      "[2023-08-28 14:49:49.523] [info] Evaluation results:\n",
      "[2023-08-28 14:49:49.523] [info]   Mean reward: -14.347221\n",
      "[2023-08-28 14:49:49.523] [info]   Mean penalty: 0.783993\n"
     ]
    }
   ],
   "source": [
    "rats.set_log_level('INFO')\n",
    "\n",
    "o = rats.Orchestrator()\n",
    "e = rats.InvestorEnv(2, 20)\n",
    "uct = rats.DualUCT(rats.EnvironmentHandler(e), max_depth=10, num_sim=100, risk_thd=0.4, gamma=0.99)\n",
    "\n",
    "o.load_agent(uct)\n",
    "o.load_environment(e)\n",
    "\n",
    "o.run(1000)"
   ]
  },
  {
   "cell_type": "code",
   "execution_count": null,
   "metadata": {},
   "outputs": [],
   "source": []
  }
 ],
 "metadata": {
  "kernelspec": {
   "display_name": "rats",
   "language": "python",
   "name": "python3"
  },
  "language_info": {
   "codemirror_mode": {
    "name": "ipython",
    "version": 3
   },
   "file_extension": ".py",
   "mimetype": "text/x-python",
   "name": "python",
   "nbconvert_exporter": "python",
   "pygments_lexer": "ipython3",
   "version": "3.9.16"
  },
  "orig_nbformat": 4
 },
 "nbformat": 4,
 "nbformat_minor": 2
}
