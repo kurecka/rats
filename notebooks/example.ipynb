{
 "cells": [
  {
   "cell_type": "code",
   "execution_count": 6,
   "metadata": {},
   "outputs": [],
   "source": [
    "import rats\n",
    "\n",
    "rats.set_log_level('INFO')"
   ]
  },
  {
   "cell_type": "code",
   "execution_count": 7,
   "metadata": {},
   "outputs": [],
   "source": [
    "def run_episode(e, a):\n",
    "    e.reset()\n",
    "    a.reset()\n",
    "    \n",
    "    h = a.get_handler()\n",
    "    \n",
    "    while not e.is_over():\n",
    "        a.play()\n",
    "        # print(h.get_current_state(), h.get_penalty(), h.get_reward())\n",
    "\n",
    "    return h.get_reward(), h.get_penalty()"
   ]
  },
  {
   "cell_type": "code",
   "execution_count": 8,
   "metadata": {},
   "outputs": [
    {
     "name": "stdout",
     "output_type": "stream",
     "text": [
      "Playing episode with Constant Agent (1)\n",
      "reward: 0.0\n",
      "penalty: 0.0\n"
     ]
    }
   ],
   "source": [
    "e = rats.InvestorEnv(5, 20)\n",
    "a1 = rats.ConstantAgent(rats.EnvironmentHandler(e), 1)\n",
    "r, p = run_episode(e, a1)\n",
    "print(f\"Playing episode with {a1.name()}\")\n",
    "print(\"reward:\", r)\n",
    "print(\"penalty:\", p)"
   ]
  },
  {
   "cell_type": "code",
   "execution_count": 9,
   "metadata": {},
   "outputs": [
    {
     "name": "stdout",
     "output_type": "stream",
     "text": [
      "Playing episode with Constant Agent (0)\n",
      "reward: 0.0\n",
      "penalty: 0.0\n"
     ]
    }
   ],
   "source": [
    "a0 = rats.ConstantAgent(rats.EnvironmentHandler(e), action=0)\n",
    "\n",
    "r, p = run_episode(e, a0)\n",
    "print(f\"Playing episode with {a0.name()}\")\n",
    "print(\"reward:\", r)\n",
    "print(\"penalty:\", p)"
   ]
  },
  {
   "cell_type": "code",
   "execution_count": 13,
   "metadata": {},
   "outputs": [
    {
     "name": "stdout",
     "output_type": "stream",
     "text": [
      "Playing episode with dual_uct\n",
      "reward: 0.0\n",
      "penalty: 0.0\n"
     ]
    }
   ],
   "source": [
    "dual_uct = rats.DualUCT(rats.EnvironmentHandler(e), max_depth=10, num_sim=100, risk_thd=0.5, gamma=0.9)\n",
    "\n",
    "r, p = run_episode(e, dual_uct)\n",
    "print(f\"Playing episode with {dual_uct.name()}\")\n",
    "print(\"reward:\", r)\n",
    "print(\"penalty:\", p)\n"
   ]
  },
  {
   "cell_type": "code",
   "execution_count": null,
   "metadata": {},
   "outputs": [],
   "source": []
  }
 ],
 "metadata": {
  "kernelspec": {
   "display_name": "rats",
   "language": "python",
   "name": "python3"
  },
  "language_info": {
   "codemirror_mode": {
    "name": "ipython",
    "version": 3
   },
   "file_extension": ".py",
   "mimetype": "text/x-python",
   "name": "python",
   "nbconvert_exporter": "python",
   "pygments_lexer": "ipython3",
   "version": "3.9.16"
  },
  "orig_nbformat": 4
 },
 "nbformat": 4,
 "nbformat_minor": 2
}
