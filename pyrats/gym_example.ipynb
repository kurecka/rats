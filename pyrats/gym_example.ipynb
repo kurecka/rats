{
 "cells": [
  {
   "cell_type": "code",
   "execution_count": 1,
   "metadata": {},
   "outputs": [],
   "source": [
    "import rats\n",
    "import gymnasium as gym"
   ]
  },
  {
   "cell_type": "code",
   "execution_count": 2,
   "metadata": {},
   "outputs": [
    {
     "name": "stdout",
     "output_type": "stream",
     "text": [
      "(0, 0.0, False, False, {'prob': 0.3333333333333333})\n"
     ]
    }
   ],
   "source": [
    "env = gym.make('FrozenLake-v1', desc=None, map_name=\"4x4\", is_slippery=True)\n",
    "observation, info = env.reset()\n",
    "\n",
    "print(env.step(0))\n",
    "\n",
    "for _ in range(100):\n",
    "    action = env.action_space.sample()  # agent policy that uses the observation and info\n",
    "    observation, reward, terminated, truncated, info = env.step(action)\n",
    "\n",
    "    if terminated or truncated:\n",
    "        observation, info = env.reset()\n",
    "\n",
    "env.close()"
   ]
  },
  {
   "cell_type": "code",
   "execution_count": 65,
   "metadata": {},
   "outputs": [
    {
     "name": "stdout",
     "output_type": "stream",
     "text": [
      "(4, -1.0, 0.0, False)\n",
      "(0, -1.0, 0.0, False)\n",
      "(0, -1.0, 0.0, False)\n",
      "(0, -1.0, 0.0, False)\n",
      "(4, -1.0, 0.0, False)\n",
      "(0, -1.0, 0.0, False)\n",
      "(0, -1.0, 0.0, False)\n",
      "(1, -1.0, 0.0, False)\n",
      "(5, -1.0, 1.0, True)\n"
     ]
    }
   ],
   "source": [
    "import random\n",
    "\n",
    "e = rats.FrozenLake()\n",
    "e.current_state()\n",
    "e.reset()\n",
    "e.current_state()\n",
    "\n",
    "while not e.is_over():\n",
    "    num_action = e.num_actions()\n",
    "    print(e.play_action(random.randint(0, num_action - 1)))\n"
   ]
  },
  {
   "cell_type": "code",
   "execution_count": null,
   "metadata": {},
   "outputs": [],
   "source": []
  },
  {
   "cell_type": "code",
   "execution_count": null,
   "metadata": {},
   "outputs": [],
   "source": []
  },
  {
   "cell_type": "code",
   "execution_count": null,
   "metadata": {},
   "outputs": [],
   "source": []
  },
  {
   "cell_type": "code",
   "execution_count": null,
   "metadata": {},
   "outputs": [],
   "source": []
  }
 ],
 "metadata": {
  "kernelspec": {
   "display_name": "rats",
   "language": "python",
   "name": "python3"
  },
  "language_info": {
   "codemirror_mode": {
    "name": "ipython",
    "version": 3
   },
   "file_extension": ".py",
   "mimetype": "text/x-python",
   "name": "python",
   "nbconvert_exporter": "python",
   "pygments_lexer": "ipython3",
   "version": "3.9.16"
  },
  "orig_nbformat": 4
 },
 "nbformat": 4,
 "nbformat_minor": 2
}
